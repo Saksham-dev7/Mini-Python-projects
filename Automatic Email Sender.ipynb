{
 "cells": [
  {
   "cell_type": "code",
   "execution_count": 3,
   "id": "7eb17fcc",
   "metadata": {},
   "outputs": [
    {
     "name": "stdout",
     "output_type": "stream",
     "text": [
      "Enter Your Name >>: saksham \n",
      "Enter Your Email >>: sakshamghimire02@gmail.com\n",
      "Failed to login. Check your email and app password.\n"
     ]
    }
   ],
   "source": [
    "import smtplib\n",
    "\n",
    "def automatic_email():\n",
    "    user = input(\"Enter Your Name >>: \")\n",
    "    email = input(\"Enter Your Email >>: \")\n",
    "    message = f\"Subject: Welcome\\n\\nDear {user}, Welcome to Thecleverprogrammer\"\n",
    "    \n",
    "    # Your email credentials\n",
    "    sender_email = \"your_email@gmail.com\"  # Replace with your email\n",
    "    app_password = \"your_app_password\"  # Replace with your app password\n",
    "    \n",
    "    try:\n",
    "        # Setup the SMTP server\n",
    "        s = smtplib.SMTP('smtp.gmail.com', 587)\n",
    "        s.starttls()\n",
    "        \n",
    "        # Login to the email server\n",
    "        s.login(sender_email, app_password)\n",
    "        \n",
    "        # Send the email\n",
    "        s.sendmail(sender_email, email, message)\n",
    "        print(\"Email Sent!\")\n",
    "    except smtplib.SMTPAuthenticationError:\n",
    "        print(\"Failed to login. Check your email and app password.\")\n",
    "    except Exception as e:\n",
    "        print(f\"An error occurred: {e}\")\n",
    "    finally:\n",
    "        # Close the SMTP server\n",
    "        s.quit()\n",
    "\n",
    "automatic_email()\n"
   ]
  },
  {
   "cell_type": "code",
   "execution_count": null,
   "id": "6f3fb17a",
   "metadata": {},
   "outputs": [],
   "source": []
  }
 ],
 "metadata": {
  "kernelspec": {
   "display_name": "Python 3 (ipykernel)",
   "language": "python",
   "name": "python3"
  },
  "language_info": {
   "codemirror_mode": {
    "name": "ipython",
    "version": 3
   },
   "file_extension": ".py",
   "mimetype": "text/x-python",
   "name": "python",
   "nbconvert_exporter": "python",
   "pygments_lexer": "ipython3",
   "version": "3.11.4"
  }
 },
 "nbformat": 4,
 "nbformat_minor": 5
}
